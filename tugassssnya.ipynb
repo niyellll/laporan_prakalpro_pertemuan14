{
 "cells": [
  {
   "cell_type": "markdown",
   "metadata": {},
   "source": [
    "Latihan 14.1 Anda diminta untuk mencari seluruh teks yang berupa tanggal dengan format\n",
    "YYYY-MM-DD dan kemudian seluruh tanggal tersebut diambil dan ditampilkan kembali dalam\n",
    "format DD-MM-YYYY ditambah dengan perhitungan selisih dengan tanggal sekarang dalam\n",
    "hari.\n",
    "Contoh:\n",
    "Pada tanggal 1945-08-17 Indonesia merdeka. Indonesia memiliki beberapa pahlawan\n",
    "nasional, seperti Pangeran Diponegoro (TL: 1785-11-11), Pattimura (TL: 1783-06-08) dan Ki\n",
    "Hajar Dewantara (1889-05-02).\n",
    "Hasil:\n",
    "1945-08-17 00:00:00 selisih 27209 hari\n",
    "1785-11-11 00:00:00 selisih 85561 hari\n",
    "1783-06-08 00:00:00 selisih 86448 hari\n",
    "1889-05-02 00:00:00 selisih 47769 hari"
   ]
  },
  {
   "cell_type": "code",
   "execution_count": 1,
   "metadata": {},
   "outputs": [
    {
     "name": "stdout",
     "output_type": "stream",
     "text": [
      "1945-08-17 selisih 28776 hari\n",
      "1785-11-11 selisih 87128 hari\n",
      "1783-06-08 selisih 88015 hari\n",
      "1889-05-02 selisih 49336 hari\n"
     ]
    }
   ],
   "source": [
    "import re\n",
    "from datetime import datetime, timedelta\n",
    "\n",
    "teks = \"\"\"\n",
    "Pada tanggal 1945-08-17 Indonesia merdeka. Indonesia memiliki beberapa pahlawan nasional, seperti Pangeran Diponegoro (TL: 1785-11-11), Pattimura (TL: 1783-06-08) dan Ki Hajar Dewantara (1889-05-02).\n",
    "\"\"\"\n",
    "\n",
    "pola_tanggal = r'\\b\\d{4}-\\d{2}-\\d{2}\\b'\n",
    "\n",
    "tanggal_semua = re.findall(pola_tanggal, teks)\n",
    "\n",
    "for tanggal in tanggal_semua:\n",
    "    tanggal_obj = datetime.strptime(tanggal, '%Y-%m-%d')\n",
    "    selisih_hari = (datetime.now() - tanggal_obj).days\n",
    "    print(f\"{tanggal} selisih {selisih_hari} hari\")\n"
   ]
  },
  {
   "cell_type": "markdown",
   "metadata": {},
   "source": [
    "Latihan 14.2 Anda diminta untuk mencari seluruh teks yang berupa email dan kemudian ambil\n",
    "semua username dari email tersebut untuk digenerate password random 8 karakter yang terdiri\n",
    "dari angka dan huruf.\n",
    "Contoh:\n",
    "Berikut adalah daftar email dan nama pengguna dari mailing list:\n",
    "anton@mail.com dimiliki oleh antonius\n",
    "budi@gmail.co.id dimiliki oleh budi anwari\n",
    "slamet@getnada.com dimiliki oleh slamet slumut\n",
    "matahari@tokopedia.com dimiliki oleh toko matahari\n",
    "Hasil:\n",
    "anton@mail.com username: anton , password: 8u78A2UD\n",
    "budi@gmail.co.id username: budi , password: bdP066Ld\n",
    "slamet@getnada.com username: slamet , password: Ab1FiHXb\n",
    "matahari@tokopedia.com username: matahari , password: 5KYyaP6 "
   ]
  },
  {
   "cell_type": "code",
   "execution_count": 2,
   "metadata": {},
   "outputs": [
    {
     "name": "stdout",
     "output_type": "stream",
     "text": [
      "anton@mail.com username: anton, password: T5vf67gc\n",
      "budi@gmail.co.id username: budi, password: tP3ZgBWW\n",
      "slamet@getnada.com username: slamet, password: btmyguQZ\n",
      "matahari@tokopedia.com username: matahari, password: HGQHMfPy\n"
     ]
    }
   ],
   "source": [
    "import re\n",
    "import random\n",
    "import string\n",
    "\n",
    "teks = \"\"\"\n",
    "Berikut adalah daftar email dan nama pengguna dari mailing list:\n",
    "anton@mail.com dimiliki oleh antonius\n",
    "budi@gmail.co.id dimiliki oleh budi anwari\n",
    "slamet@getnada.com dimiliki oleh slamet slumut\n",
    "matahari@tokopedia.com dimiliki oleh toko matahari\n",
    "\"\"\"\n",
    "\n",
    "for match in re.findall(r'\\b[\\w.-]+@[a-zA-Z0-9.-]+\\.[a-zA-Z]{2,}\\b', teks):\n",
    "    username = match.split('@')[0]\n",
    "    password = ''.join(random.choices(string.ascii_letters + string.digits, k=8))\n",
    "    print(f\"{match} username: {username}, password: {password}\")\n"
   ]
  }
 ],
 "metadata": {
  "kernelspec": {
   "display_name": "Python 3",
   "language": "python",
   "name": "python3"
  },
  "language_info": {
   "codemirror_mode": {
    "name": "ipython",
    "version": 3
   },
   "file_extension": ".py",
   "mimetype": "text/x-python",
   "name": "python",
   "nbconvert_exporter": "python",
   "pygments_lexer": "ipython3",
   "version": "3.12.0"
  }
 },
 "nbformat": 4,
 "nbformat_minor": 2
}
